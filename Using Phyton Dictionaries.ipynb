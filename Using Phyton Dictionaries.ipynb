{
 "cells": [
  {
   "cell_type": "code",
   "execution_count": null,
   "metadata": {},
   "outputs": [],
   "source": [
    "numbers = dict()\n",
    "numbers = {1: 'One',2 :'Two',3: 'Three',4: 'Four',5: 'Five',6: 'Six',7: 'Seven',8: 'Eight',9: 'Nine', 10: 'Ten'}\n",
    "response = input(\"Enter an amount  \")\n",
    "found = False\n",
    "#print(numbers.keys())\n",
    "\n",
    "for k, v in numbers.items():\n",
    "  \n",
    "       if k == int(response):\n",
    "        print(\"{1}\".format(k, v))\n",
    "        found == True\n",
    "        break\n",
    "         \n",
    "   "
   ]
  },
  {
   "cell_type": "code",
   "execution_count": null,
   "metadata": {},
   "outputs": [],
   "source": [
    "locs = {'room': 'foyer', 'front room','library','kitchen', 'dining room', 'vault', 'parior', 'secret room'}\n",
    "print(locs)"
   ]
  },
  {
   "cell_type": "code",
   "execution_count": null,
   "metadata": {},
   "outputs": [],
   "source": []
  },
  {
   "cell_type": "code",
   "execution_count": null,
   "metadata": {},
   "outputs": [
    {
     "name": "stdout",
     "output_type": "stream",
     "text": [
      "Enter room number or 'q' to quit1\n",
      "Please type '2' to go to the north door or 'q' to quit2\n"
     ]
    }
   ],
   "source": [
    "inhouse = True\n",
    "while inhouse:\n",
    "   \n",
    "    response = input(\"Enter room number or 'q' to quit\")\n",
    "    if response =='1':\n",
    "        response = input(\"Please type '2' to go to the north door or 'q' to quit\")\n",
    "        if response == 'q':\n",
    "            break\n",
    "            inhouse = False\n",
    "        if response =='2':\n",
    "            response = input(\"Please type '3' to go to the west door, '4' to go to the east door or 'q' to quit,\")\n",
    "        if response == 'q':\n",
    "            break\n",
    "            inhouse = False\n",
    "        \n",
    "        if response =='3':\n",
    "            response = input(\"Please type '5' to go to the north door or 'q' to quit\")\n",
    "        if response =='4':\n",
    "            response = input(\"Please type '7' to go to the north door or 'q' to quit\")\n",
    "\n",
    "        if response =='q':\n",
    "            break\n",
    "            inhouse =False\n",
    "        if response =='5':\n",
    "            response = input(\"Please type q to quit, you are at the end of the west door\")\n",
    "\n",
    "# elif response ==3\n",
    "    #\n",
    "    #elif response ==4\n",
    "    #response = input(\"Please type 'w2' to go to the south door, 'n7' to go to the north door or 'q' to quit\")\n",
    "    #elif response ==2\n",
    "    #response = input(\"Please type 's1' to go to the south door, 'w3' to go to the west door or 'q' to quit\")"
   ]
  }
 ],
 "metadata": {
  "kernelspec": {
   "display_name": "Python 3",
   "language": "python",
   "name": "python3"
  },
  "language_info": {
   "codemirror_mode": {
    "name": "ipython",
    "version": 3
   },
   "file_extension": ".py",
   "mimetype": "text/x-python",
   "name": "python",
   "nbconvert_exporter": "python",
   "pygments_lexer": "ipython3",
   "version": "3.7.3"
  }
 },
 "nbformat": 4,
 "nbformat_minor": 2
}
