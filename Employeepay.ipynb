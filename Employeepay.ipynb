{
 "cells": [
  {
   "cell_type": "code",
   "execution_count": 9,
   "metadata": {},
   "outputs": [
    {
     "name": "stdout",
     "output_type": "stream",
     "text": [
      "Enter the wage: 20\n",
      "Enter the regular hours: 40\n",
      "Enter the overtime hours: 5\n",
      "The total weekly pay is $950.0\n"
     ]
    }
   ],
   "source": [
    "wage = float(input(\"Enter the wage: \"))\n",
    "regularhours = float(input(\"Enter the regular hours: \"))\n",
    "overtimeHours = float(input(\"Enter the overtime hours: \"))\n",
    "totalwage = regularhours * wage\n",
    "overtimepay = overtimeHours * 1.5 * wage\n",
    "totalPay = totalwage + overtimepay \n",
    "print(\"The total weekly pay is $\" + str(round(totalPay, 2)))"
   ]
  },
  {
   "cell_type": "code",
   "execution_count": null,
   "metadata": {},
   "outputs": [],
   "source": []
  }
 ],
 "metadata": {
  "kernelspec": {
   "display_name": "Python 3",
   "language": "python",
   "name": "python3"
  },
  "language_info": {
   "codemirror_mode": {
    "name": "ipython",
    "version": 3
   },
   "file_extension": ".py",
   "mimetype": "text/x-python",
   "name": "python",
   "nbconvert_exporter": "python",
   "pygments_lexer": "ipython3",
   "version": "3.7.3"
  }
 },
 "nbformat": 4,
 "nbformat_minor": 2
}
