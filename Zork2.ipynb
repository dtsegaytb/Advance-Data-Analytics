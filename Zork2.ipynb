{
 "cells": [
  {
   "cell_type": "code",
   "execution_count": null,
   "metadata": {},
   "outputs": [],
   "source": [
    "inhouse = True\n",
    "while inhouse:\n",
    "   \n",
    "    response = input(\"Enter room number or 'q' to quit\")\n",
    "    if response =='1':\n",
    "        response = input(\"Please type '2' to go to the north door or 'q' to quit\")\n",
    "        if response == 'q':\n",
    "            break\n",
    "            inhouse = False\n",
    "        if response =='2':\n",
    "            response = input(\"Please type '1' to go to the sout door, '3' to go to the west door, '4' to go to the east door or 'q' to quit,\")\n",
    "        if response == 'q':\n",
    "            break\n",
    "            inhouse = False\n",
    "        if response =='3':\n",
    "            response = input(\"Please type '5' to go to the north door or 'q' to quit\")\n",
    "            if response == 'q':\n",
    "            break\n",
    "            inhouse = False\n",
    "            if response =='5'\n",
    "            print(\"Please type '6' to go to the west door or 'q' to quit\")\n",
    "        if response =='3':\n",
    "            response = input(\"Please type '5' to go to the north door or 'q' to quit\")\n",
    "            if response == 'q':\n",
    "            break\n",
    "            inhouse = False\n",
    "            if response =='5'\n",
    "            print(\"Please type '6' to go to the west door or 'q' to quit\")\n",
    "        if response =='6':\n",
    "            response = input(\"Please type '8' to go to the east door or 'q' to quit\")\n",
    "        if response == 'q':\n",
    "            break\n",
    "            inhouse = False\n",
    "            if response ==''\n",
    "            print(\"You are at the last block of the direction, press 'q' to quit\")\n",
    "       "
   ]
  }
 ],
 "metadata": {
  "kernelspec": {
   "display_name": "Python 3",
   "language": "python",
   "name": "python3"
  },
  "language_info": {
   "codemirror_mode": {
    "name": "ipython",
    "version": 3
   },
   "file_extension": ".py",
   "mimetype": "text/x-python",
   "name": "python",
   "nbconvert_exporter": "python",
   "pygments_lexer": "ipython3",
   "version": "3.7.3"
  }
 },
 "nbformat": 4,
 "nbformat_minor": 2
}
