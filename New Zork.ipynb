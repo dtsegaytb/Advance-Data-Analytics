{
 "cells": [
  {
   "cell_type": "code",
   "execution_count": null,
   "metadata": {},
   "outputs": [],
   "source": [
    "room_names = [\"foyer\",\"front room\",\"library\",\"kitchen\",\"dining room\",\"vault\",\"parlor\",\"secret room\"]\n",
    "room_texts = [\"a foyer\",\"the front room of an old house\",\"a library\",\"a dusty kitchen\",\"a lonely dining room\",\"a vault\",\"an elaborate parlor\",\"a secret room\"]\n",
    "room_contents = [\"a dead scorpion\",\"a piano\",\"spiders\",\"bats\",\"dust, empty box\",\"3 walking skeletons\",\"treasure chest\",\"piles of gold\"]\n",
    "exits = [[\"n2\"],[\"s1\",\"w3\",\"e4\"],[\"e2\",\"n5\"],[\"w2\",\"n7\"],[\"s3\"],[\"e7\",\"e8\"],[\"w6\",\"s4\"],[\"w6\"]]\n",
    "\n",
    "def char_to_dir(c):\n",
    "    if c == \"n\": return \"north\"\n",
    "    elif c == \"s\": return \"south\"\n",
    "    elif c == \"e\": return \"east\"\n",
    "    else: return \"west\" \n",
    "\n",
    "# takes a list of exits as letter number combos, returns a string describing the possible exists\n",
    "def get_exits(x_list):\n",
    "    temp_list = [] # prepare temp list\n",
    "    for x in range(len(x_list)):\n",
    "    temp_list.append(f\"({x+1}) exit to the {char_to_dir(x_list[x][0])}\")\n",
    "    return ', '.join(temp_list)\n",
    "\n",
    "playing, current_room = True, 0\n",
    "while playing:\n",
    "    print(\"=\"*60)\n",
    "    print(f\"You are standing in {room_texts[current_room]}\")\n",
    "    print(f\"You see {room_contents[current_room]}\")\n",
    "    print(f\"You can {get_exits(exits[current_room])}. Press (Q) to quit:\")\n",
    "    choice = input(\"What do you do?\")\n",
    "\n",
    "if str.lower(choice) == \"q\":\n",
    "\tplaying = False\n",
    "\telif choice.isdigit() and (int(choice)-1) < len(exits[current_room]):\n",
    "\t\tprint(f\"-- changing room to room #{int(exits[current_room][int(choice)-1][1])} --\")\n",
    "\t\tcurrent_room = int(exits[current_room][int(choice)-1][1])-1\n",
    "\telse:\n",
    "\t\tprint(\"See you!\")\n",
    "print(\"Thanks for playing!\")\n",
    "# todo: define win condition, congratulate user & end on win"
   ]
  },
  {
   "cell_type": "code",
   "execution_count": null,
   "metadata": {},
   "outputs": [],
   "source": []
  }
 ],
 "metadata": {
  "kernelspec": {
   "display_name": "Python 3",
   "language": "python",
   "name": "python3"
  },
  "language_info": {
   "codemirror_mode": {
    "name": "ipython",
    "version": 3
   },
   "file_extension": ".py",
   "mimetype": "text/x-python",
   "name": "python",
   "nbconvert_exporter": "python",
   "pygments_lexer": "ipython3",
   "version": "3.7.3"
  }
 },
 "nbformat": 4,
 "nbformat_minor": 2
}
