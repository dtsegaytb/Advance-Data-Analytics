{
 "cells": [
  {
   "cell_type": "code",
   "execution_count": null,
   "metadata": {},
   "outputs": [],
   "source": [
    "import random\n",
    "\n",
    "myguess = 0\n",
    "lower =0\n",
    "upper =10\n",
    "\n",
    "while (myguess < 3):\n",
    "    rnd = random.randint(lower, upper)\n",
    "    myguess = myguess + 1\n",
    "    guess = int(input(\"Guess a number\"))\n",
    "    print(\"Your guess is \" + str(guess) )\n",
    "    print(\"The random is \" + str(rnd))\n",
    "    if guess == rnd:\n",
    "        print(\"Congratulations! You got it!!\")\n",
    "    if myguess == 3:\n",
    "      print(\"Your trial is over\")"
   ]
  },
  {
   "cell_type": "code",
   "execution_count": 1,
   "metadata": {},
   "outputs": [
    {
     "name": "stdout",
     "output_type": "stream",
     "text": [
      "Enter a vowel or 'q' to quite\n",
      "Your entered e\n",
      "Enter a vowel or 'q' to quitu\n",
      "Your entered u\n",
      "Enter a vowel or 'q' to quito\n",
      "Your entered o\n",
      "Enter a vowel or 'q' to quitHard Game\n",
      "Your entered Hard Game\n",
      "Enter a vowel or 'q' to quitq\n"
     ]
    }
   ],
   "source": [
    "while True:\n",
    "    answer = input(\"Enter a vowel or 'q' to quit\")\n",
    "    if answer.lower() == 'q':\n",
    "        break\n",
    "    else:\n",
    "        print(\"Your entered \" + str(answer))"
   ]
  },
  {
   "cell_type": "code",
   "execution_count": 5,
   "metadata": {},
   "outputs": [],
   "source": [
    "data = \"\"\n",
    "with open(\"princesses_avi.txt\", 'r') as f:\n",
    "    data = f.read()"
   ]
  },
  {
   "cell_type": "code",
   "execution_count": null,
   "metadata": {},
   "outputs": [],
   "source": []
  }
 ],
 "metadata": {
  "kernelspec": {
   "display_name": "Python 3",
   "language": "python",
   "name": "python3"
  },
  "language_info": {
   "codemirror_mode": {
    "name": "ipython",
    "version": 3
   },
   "file_extension": ".py",
   "mimetype": "text/x-python",
   "name": "python",
   "nbconvert_exporter": "python",
   "pygments_lexer": "ipython3",
   "version": "3.7.3"
  }
 },
 "nbformat": 4,
 "nbformat_minor": 2
}
