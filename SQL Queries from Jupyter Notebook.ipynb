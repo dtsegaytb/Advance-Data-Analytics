{
 "cells": [
  {
   "cell_type": "code",
   "execution_count": null,
   "metadata": {},
   "outputs": [],
   "source": [
    "import os\n",
    "import pymysql\n",
    "import pandas as pd\n",
    "\n",
    "host = os.getenv('MYSQL_HOST')\n",
    "port = os.getenv('MYSQL_PORT')\n",
    "user = os.getenv('MYSQL_USER')\n",
    "#password = os.getenv('MYSQL_PASSWORD')\n",
    "passwaord = 'password'\n",
    "database = os.getenv('MYSQL_DATABASE')\n",
    "\n",
    "conn = pymysql.connect (\n",
    "    host = host,\n",
    "    port = int(3306),\n",
    "    user = 'root',\n",
    "    password = password,\n",
    "    db = 'people',\n",
    "    charset = 'utf8mb4'\n",
    ")\n",
    "\n",
    "cursor = conn.cursor()\n",
    "queryAddItem = \"Insert into MCStudents (FirstName, LastName, Address, City, State,Zip,Phone) values\n",
    "                'Cynthia', 'Ratliff','1448 Lorem Avenue','Toldeo','PA','340339','594-0126';\"\n",
    "querySelectAll = \"Select all from MCStudents\"\n",
    "\n",
    "cursor.execute(queryAddItem)\n",
    "\n",
    "snapshot = pd.read_sql_query(\"Select * from MCStudents\", conn)\n",
    "snapshot\n",
    "\n",
    "queryDeleteFirstItem = \"Delete from MCStudents where ID >0 LIMIT 1;\"\n",
    "cursor.execute(queryDeleteFirstItem)\n",
    "snapshot = pd.read_sql_query(\"Select * from MCStudents\", conn)\n",
    "snapshot\n",
    "\n",
    "location = \"MCStudents.sql\"\n",
    "data=\"\"\n",
    "with open(location, 'r') as f:\n",
    "    data = f.read()\n",
    "    data[500]\n",
    "    \n",
    "data = data.split(\"\\n\")\n",
    "data[:7]\n",
    "\n",
    "for q in data:\n",
    "    cursor.execute(q)\n",
    "    \n",
    "snapshot = pd.read_sql_query(\"Select * from MCStudents\", conn)\n",
    "snapshot.tail(10)\n",
    "\n",
    "\n",
    "\n",
    "    \n"
   ]
  }
 ],
 "metadata": {
  "kernelspec": {
   "display_name": "Python 3",
   "language": "python",
   "name": "python3"
  },
  "language_info": {
   "codemirror_mode": {
    "name": "ipython",
    "version": 3
   },
   "file_extension": ".py",
   "mimetype": "text/x-python",
   "name": "python",
   "nbconvert_exporter": "python",
   "pygments_lexer": "ipython3",
   "version": "3.7.3"
  }
 },
 "nbformat": 4,
 "nbformat_minor": 2
}
