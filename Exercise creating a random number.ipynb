{
 "cells": [
  {
   "cell_type": "code",
   "execution_count": 32,
   "metadata": {},
   "outputs": [
    {
     "name": "stdout",
     "output_type": "stream",
     "text": [
      "Guess a number10\n",
      "Your guess is 10\n",
      "The random is 5\n",
      "Guess a number6\n",
      "Your guess is 6\n",
      "The random is 10\n",
      "Guess a number2\n",
      "Your guess is 2\n",
      "The random is 6\n",
      "Your trial is over\n"
     ]
    }
   ],
   "source": [
    "import random\n",
    "\n",
    "myguess = 0\n",
    "lower =0\n",
    "upper =10\n",
    "\n",
    "while (myguess < 3):\n",
    "    rnd = random.randint(lower, upper)\n",
    "    myguess = myguess + 1\n",
    "    guess = int(input(\"Guess a number\"))\n",
    "    print(\"Your guess is \" + str(guess) )\n",
    "    print(\"The random is \" + str(rnd))\n",
    "    if guess == rnd:\n",
    "        print(\"Congratulations! You got it!!\")\n",
    "    if myguess == 3:\n",
    "      print(\"Your trial is over\")\n",
    "    "
   ]
  },
  {
   "cell_type": "code",
   "execution_count": null,
   "metadata": {},
   "outputs": [],
   "source": []
  },
  {
   "cell_type": "code",
   "execution_count": null,
   "metadata": {},
   "outputs": [],
   "source": []
  }
 ],
 "metadata": {
  "kernelspec": {
   "display_name": "Python 3",
   "language": "python",
   "name": "python3"
  },
  "language_info": {
   "codemirror_mode": {
    "name": "ipython",
    "version": 3
   },
   "file_extension": ".py",
   "mimetype": "text/x-python",
   "name": "python",
   "nbconvert_exporter": "python",
   "pygments_lexer": "ipython3",
   "version": "3.7.3"
  }
 },
 "nbformat": 4,
 "nbformat_minor": 2
}
